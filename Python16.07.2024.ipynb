{
  "nbformat": 4,
  "nbformat_minor": 0,
  "metadata": {
    "colab": {
      "provenance": []
    },
    "kernelspec": {
      "name": "python3",
      "display_name": "Python 3"
    }
  },
  "cells": [
    {
      "cell_type": "markdown",
      "metadata": {
        "id": "y81OgfNdqzaL"
      },
      "source": [
        "Introduction to Python Data Types"
      ]
    },
    {
      "cell_type": "code",
      "source": [
        "#Develop python codes"
      ],
      "metadata": {
        "id": "UQCf0UQNos7y"
      },
      "execution_count": null,
      "outputs": []
    },
    {
      "cell_type": "markdown",
      "metadata": {
        "id": "V-DItZn6wU2K"
      },
      "source": [
        "Numbers"
      ]
    },
    {
      "cell_type": "code",
      "metadata": {
        "id": "bQWGzZGTweGg"
      },
      "source": [
        "#1 assign a number to a variable\n",
        "#2 confirm that type of the variable\n",
        "#3 apply addition, subtraction, division and multiplication to the variable\n",
        "#4 Apply addition and change the assignment to the variable\n",
        "#5 apply multiplication and change the assignment to the variable\n"
      ],
      "execution_count": null,
      "outputs": []
    },
    {
      "cell_type": "markdown",
      "source": [
        "#"
      ],
      "metadata": {
        "id": "A3xju4_rqTaY"
      }
    },
    {
      "cell_type": "code",
      "source": [
        "x=4\n",
        "print(x)"
      ],
      "metadata": {
        "colab": {
          "base_uri": "https://localhost:8080/"
        },
        "id": "U8kdfHu5pyGp",
        "outputId": "6d651e43-a548-4cf3-d636-a12ef3793f8a"
      },
      "execution_count": 28,
      "outputs": [
        {
          "output_type": "stream",
          "name": "stdout",
          "text": [
            "4\n"
          ]
        }
      ]
    },
    {
      "cell_type": "code",
      "source": [
        "x"
      ],
      "metadata": {
        "colab": {
          "base_uri": "https://localhost:8080/"
        },
        "id": "zXTMrdOUqQp3",
        "outputId": "f85540de-5e8f-4576-d0fe-119cbfd0ea43"
      },
      "execution_count": 2,
      "outputs": [
        {
          "output_type": "execute_result",
          "data": {
            "text/plain": [
              "4"
            ]
          },
          "metadata": {},
          "execution_count": 2
        }
      ]
    },
    {
      "cell_type": "code",
      "source": [
        "type(x)"
      ],
      "metadata": {
        "colab": {
          "base_uri": "https://localhost:8080/"
        },
        "id": "Pl-GLuiyqjud",
        "outputId": "7f8068f3-98b1-4924-b8d9-abd3da6bf0d4"
      },
      "execution_count": 3,
      "outputs": [
        {
          "output_type": "execute_result",
          "data": {
            "text/plain": [
              "int"
            ]
          },
          "metadata": {},
          "execution_count": 3
        }
      ]
    },
    {
      "cell_type": "code",
      "source": [
        "print(x+5)"
      ],
      "metadata": {
        "colab": {
          "base_uri": "https://localhost:8080/"
        },
        "id": "y-ClV4GqqmJy",
        "outputId": "89cb69b9-a64a-49bb-cdf6-5545e6042f98"
      },
      "execution_count": 30,
      "outputs": [
        {
          "output_type": "stream",
          "name": "stdout",
          "text": [
            "13\n"
          ]
        }
      ]
    },
    {
      "cell_type": "code",
      "source": [
        "x-7"
      ],
      "metadata": {
        "colab": {
          "base_uri": "https://localhost:8080/"
        },
        "id": "qS5vgfuQq0xH",
        "outputId": "413fc001-8ab8-433e-f20a-1c70ed179daa"
      },
      "execution_count": 24,
      "outputs": [
        {
          "output_type": "execute_result",
          "data": {
            "text/plain": [
              "177"
            ]
          },
          "metadata": {},
          "execution_count": 24
        }
      ]
    },
    {
      "cell_type": "code",
      "source": [
        "x/3"
      ],
      "metadata": {
        "colab": {
          "base_uri": "https://localhost:8080/"
        },
        "id": "66YWujGlq27F",
        "outputId": "0bb99b22-886d-4481-8f9d-e76f999df1a3"
      },
      "execution_count": 20,
      "outputs": [
        {
          "output_type": "execute_result",
          "data": {
            "text/plain": [
              "15.333333333333334"
            ]
          },
          "metadata": {},
          "execution_count": 20
        }
      ]
    },
    {
      "cell_type": "code",
      "source": [
        "x=x+6"
      ],
      "metadata": {
        "id": "z1nSQm5RrdXd"
      },
      "execution_count": 11,
      "outputs": []
    },
    {
      "cell_type": "code",
      "source": [
        "x+=6"
      ],
      "metadata": {
        "id": "-OvkjLKHr4CF"
      },
      "execution_count": 19,
      "outputs": []
    },
    {
      "cell_type": "code",
      "source": [
        "x=x*2"
      ],
      "metadata": {
        "id": "QDU5PLBIsIH2"
      },
      "execution_count": 29,
      "outputs": []
    },
    {
      "cell_type": "markdown",
      "metadata": {
        "id": "x_asxCWq6vei"
      },
      "source": [
        "Booleans"
      ]
    },
    {
      "cell_type": "code",
      "metadata": {
        "id": "ypfYxt_w7b6w"
      },
      "source": [
        "#1 assign t and f with True and False\n",
        "#2 confirm the type of the variables\n",
        "#3 print the opposite of each variable"
      ],
      "execution_count": null,
      "outputs": []
    },
    {
      "cell_type": "code",
      "source": [
        "T=True\n",
        "type(T)"
      ],
      "metadata": {
        "colab": {
          "base_uri": "https://localhost:8080/"
        },
        "id": "6WS9V4wXtxVd",
        "outputId": "32297b2b-47cf-4bd4-ee12-6d2cee02ba0f"
      },
      "execution_count": 34,
      "outputs": [
        {
          "output_type": "execute_result",
          "data": {
            "text/plain": [
              "bool"
            ]
          },
          "metadata": {},
          "execution_count": 34
        }
      ]
    },
    {
      "cell_type": "code",
      "source": [
        "F=False\n",
        "type(F)"
      ],
      "metadata": {
        "colab": {
          "base_uri": "https://localhost:8080/"
        },
        "id": "kAYtkd26uVFF",
        "outputId": "256bac7d-fecd-46d7-cc0b-222911345a03"
      },
      "execution_count": 36,
      "outputs": [
        {
          "output_type": "execute_result",
          "data": {
            "text/plain": [
              "bool"
            ]
          },
          "metadata": {},
          "execution_count": 36
        }
      ]
    },
    {
      "cell_type": "code",
      "source": [
        "print(not T)"
      ],
      "metadata": {
        "colab": {
          "base_uri": "https://localhost:8080/"
        },
        "id": "cjoo9-bkucvu",
        "outputId": "af0a2bf7-8cde-46e0-ed5b-51e968d82083"
      },
      "execution_count": 39,
      "outputs": [
        {
          "output_type": "stream",
          "name": "stdout",
          "text": [
            "False\n"
          ]
        }
      ]
    },
    {
      "cell_type": "code",
      "source": [
        "print(not F)"
      ],
      "metadata": {
        "colab": {
          "base_uri": "https://localhost:8080/"
        },
        "id": "jxgoAJE4utLs",
        "outputId": "e397b90f-6732-4866-9f50-b177a2d756cd"
      },
      "execution_count": 41,
      "outputs": [
        {
          "output_type": "stream",
          "name": "stdout",
          "text": [
            "True\n"
          ]
        }
      ]
    },
    {
      "cell_type": "code",
      "source": [
        "x=4"
      ],
      "metadata": {
        "id": "hKHTcMCku5aD"
      },
      "execution_count": 42,
      "outputs": []
    },
    {
      "cell_type": "code",
      "source": [
        "x==5"
      ],
      "metadata": {
        "colab": {
          "base_uri": "https://localhost:8080/"
        },
        "id": "AfmrI2Llu63F",
        "outputId": "955622e7-5bae-45c4-f2b2-66dee25ae4aa"
      },
      "execution_count": 43,
      "outputs": [
        {
          "output_type": "execute_result",
          "data": {
            "text/plain": [
              "False"
            ]
          },
          "metadata": {},
          "execution_count": 43
        }
      ]
    },
    {
      "cell_type": "markdown",
      "metadata": {
        "id": "lgaDzG_W83bK"
      },
      "source": [
        "Strings"
      ]
    },
    {
      "cell_type": "code",
      "metadata": {
        "id": "hNxiquPA85Ah"
      },
      "source": [
        "#1 create a string variable with 'Welcome'\n",
        "#2 create a string  variable with 'Your Name'\n",
        "#3 confirm the variable type\n",
        "#4 print the variables together\n",
        "#5 capitalize the first letter of variable\n",
        "#6 capitalize all the letters in the VARIABLE"
      ],
      "execution_count": null,
      "outputs": []
    },
    {
      "cell_type": "code",
      "source": [
        "st1='welcome'\n",
        "print(st1)"
      ],
      "metadata": {
        "colab": {
          "base_uri": "https://localhost:8080/"
        },
        "id": "Tyen4G4BvCd9",
        "outputId": "a5c22aea-6d6a-4ab3-84cd-1fe941e1bf1d"
      },
      "execution_count": 54,
      "outputs": [
        {
          "output_type": "stream",
          "name": "stdout",
          "text": [
            "welcome\n"
          ]
        }
      ]
    },
    {
      "cell_type": "code",
      "source": [
        "st2='meleq'\n",
        "print(st2)"
      ],
      "metadata": {
        "colab": {
          "base_uri": "https://localhost:8080/"
        },
        "id": "XAzWV5ewv3hf",
        "outputId": "42b0cc50-9e78-4049-d2fe-8f761a14fc8f"
      },
      "execution_count": 55,
      "outputs": [
        {
          "output_type": "stream",
          "name": "stdout",
          "text": [
            "meleq\n"
          ]
        }
      ]
    },
    {
      "cell_type": "code",
      "source": [
        "st1+' '+st2"
      ],
      "metadata": {
        "colab": {
          "base_uri": "https://localhost:8080/",
          "height": 36
        },
        "id": "FRBAKiVqwBWZ",
        "outputId": "48365494-35d0-4c0f-afb3-55a24520edb5"
      },
      "execution_count": 56,
      "outputs": [
        {
          "output_type": "execute_result",
          "data": {
            "text/plain": [
              "'welcome meleq'"
            ],
            "application/vnd.google.colaboratory.intrinsic+json": {
              "type": "string"
            }
          },
          "metadata": {},
          "execution_count": 56
        }
      ]
    },
    {
      "cell_type": "code",
      "source": [
        "print(st1+' '+st2)"
      ],
      "metadata": {
        "colab": {
          "base_uri": "https://localhost:8080/"
        },
        "id": "qGAxzVI5wPu0",
        "outputId": "01d6bc90-4909-496e-8878-bdcca8e61989"
      },
      "execution_count": 62,
      "outputs": [
        {
          "output_type": "stream",
          "name": "stdout",
          "text": [
            "welcome meleq\n"
          ]
        }
      ]
    },
    {
      "cell_type": "code",
      "source": [
        "st2.capitalize()"
      ],
      "metadata": {
        "colab": {
          "base_uri": "https://localhost:8080/",
          "height": 36
        },
        "id": "Vc307qvTwbyj",
        "outputId": "38d03668-05c6-44b7-90d0-52ad56b750c1"
      },
      "execution_count": 66,
      "outputs": [
        {
          "output_type": "execute_result",
          "data": {
            "text/plain": [
              "'Meleq'"
            ],
            "application/vnd.google.colaboratory.intrinsic+json": {
              "type": "string"
            }
          },
          "metadata": {},
          "execution_count": 66
        }
      ]
    },
    {
      "cell_type": "code",
      "source": [
        "st1.upper()"
      ],
      "metadata": {
        "colab": {
          "base_uri": "https://localhost:8080/",
          "height": 36
        },
        "id": "QCRka4yexJ6g",
        "outputId": "2fe80330-b03c-49bd-fdb9-1dd055955b08"
      },
      "execution_count": 63,
      "outputs": [
        {
          "output_type": "execute_result",
          "data": {
            "text/plain": [
              "'WELCOME'"
            ],
            "application/vnd.google.colaboratory.intrinsic+json": {
              "type": "string"
            }
          },
          "metadata": {},
          "execution_count": 63
        }
      ]
    },
    {
      "cell_type": "code",
      "source": [
        "st2.count('q')"
      ],
      "metadata": {
        "colab": {
          "base_uri": "https://localhost:8080/"
        },
        "id": "U9zSxY71xSdO",
        "outputId": "4ceb242d-732d-4ed2-a017-783c9958634e"
      },
      "execution_count": 68,
      "outputs": [
        {
          "output_type": "execute_result",
          "data": {
            "text/plain": [
              "1"
            ]
          },
          "metadata": {},
          "execution_count": 68
        }
      ]
    },
    {
      "cell_type": "markdown",
      "metadata": {
        "id": "9ZF2CvDo-yAA"
      },
      "source": [
        "Floats"
      ]
    },
    {
      "cell_type": "code",
      "metadata": {
        "id": "RqPEd7mH-y_w"
      },
      "source": [
        "#1 assign a variable with a float value\n",
        "#2 confirm the variables is a float\n",
        "#3 apply addition, subtraction, division and multiplication to the variable"
      ],
      "execution_count": null,
      "outputs": []
    },
    {
      "cell_type": "code",
      "source": [
        "fl=4.6\n",
        "type(fl)"
      ],
      "metadata": {
        "colab": {
          "base_uri": "https://localhost:8080/"
        },
        "id": "NidcQDgsxrqT",
        "outputId": "881faebb-d91b-46be-8d1a-cff958d10e6f"
      },
      "execution_count": 69,
      "outputs": [
        {
          "output_type": "execute_result",
          "data": {
            "text/plain": [
              "float"
            ]
          },
          "metadata": {},
          "execution_count": 69
        }
      ]
    },
    {
      "cell_type": "code",
      "source": [
        "fl-2.2"
      ],
      "metadata": {
        "colab": {
          "base_uri": "https://localhost:8080/"
        },
        "id": "DJ3v_Jf1x14K",
        "outputId": "32c28c7d-84d1-44ff-e508-1c2e01987437"
      },
      "execution_count": 71,
      "outputs": [
        {
          "output_type": "execute_result",
          "data": {
            "text/plain": [
              "2.3999999999999995"
            ]
          },
          "metadata": {},
          "execution_count": 71
        }
      ]
    },
    {
      "cell_type": "code",
      "source": [
        "fl/5"
      ],
      "metadata": {
        "colab": {
          "base_uri": "https://localhost:8080/"
        },
        "id": "qqKAgxNqx9b1",
        "outputId": "1a15670c-6305-492f-81f0-8c1e2daedd4d"
      },
      "execution_count": 72,
      "outputs": [
        {
          "output_type": "execute_result",
          "data": {
            "text/plain": [
              "0.9199999999999999"
            ]
          },
          "metadata": {},
          "execution_count": 72
        }
      ]
    },
    {
      "cell_type": "markdown",
      "metadata": {
        "id": "YWf5G-Am_dA6"
      },
      "source": [
        "Lists - A list is the Python equivalent of an array, but is resizeable and can contain elements of different types"
      ]
    },
    {
      "cell_type": "code",
      "metadata": {
        "id": "7UBRROm5_eIA"
      },
      "source": [
        "#1 create a list\n",
        "#2 use index to identify a value in a specified location within the list\n",
        "#3 use index to identify the last value within the list\n",
        "#4 create a blank list\n",
        "#5 add values to the blank list\n",
        "#6 add values to a specified location\n",
        "#7 remove the last value from the list\n",
        "#8 reverse the list\n",
        "#9 what does multiplication do to a list\n",
        "#10 multiply each value of the list with 5\n"
      ],
      "execution_count": null,
      "outputs": []
    },
    {
      "cell_type": "code",
      "source": [
        "l1=[1,2,3,4,5]\n",
        "type(l1)"
      ],
      "metadata": {
        "colab": {
          "base_uri": "https://localhost:8080/"
        },
        "id": "sCkj7pZeyPLa",
        "outputId": "dc93d7a6-d815-40e4-9039-2a3997567fa0"
      },
      "execution_count": 76,
      "outputs": [
        {
          "output_type": "execute_result",
          "data": {
            "text/plain": [
              "list"
            ]
          },
          "metadata": {},
          "execution_count": 76
        }
      ]
    },
    {
      "cell_type": "code",
      "source": [
        "l1[0]"
      ],
      "metadata": {
        "colab": {
          "base_uri": "https://localhost:8080/"
        },
        "id": "jnND0E8sy3-8",
        "outputId": "5ba1c0ff-1f78-4564-fe85-30855dc4c142"
      },
      "execution_count": 77,
      "outputs": [
        {
          "output_type": "execute_result",
          "data": {
            "text/plain": [
              "1"
            ]
          },
          "metadata": {},
          "execution_count": 77
        }
      ]
    },
    {
      "cell_type": "code",
      "source": [
        "l1[1]"
      ],
      "metadata": {
        "colab": {
          "base_uri": "https://localhost:8080/"
        },
        "id": "ARPSkIU2zFcj",
        "outputId": "056aef85-09c8-45c5-d3d8-91a841462b7d"
      },
      "execution_count": 78,
      "outputs": [
        {
          "output_type": "execute_result",
          "data": {
            "text/plain": [
              "2"
            ]
          },
          "metadata": {},
          "execution_count": 78
        }
      ]
    },
    {
      "cell_type": "code",
      "source": [
        "l1[-1]"
      ],
      "metadata": {
        "colab": {
          "base_uri": "https://localhost:8080/"
        },
        "id": "EwxKDHkGzS2s",
        "outputId": "ac9542c1-aad4-4c4b-9760-a17da3c2857e"
      },
      "execution_count": 79,
      "outputs": [
        {
          "output_type": "execute_result",
          "data": {
            "text/plain": [
              "5"
            ]
          },
          "metadata": {},
          "execution_count": 79
        }
      ]
    },
    {
      "cell_type": "code",
      "source": [
        "l1[4]"
      ],
      "metadata": {
        "colab": {
          "base_uri": "https://localhost:8080/"
        },
        "id": "oIDNO7aUzZHz",
        "outputId": "0d6dd1ab-a530-41dc-962b-5c0bc466c8ec"
      },
      "execution_count": 80,
      "outputs": [
        {
          "output_type": "execute_result",
          "data": {
            "text/plain": [
              "5"
            ]
          },
          "metadata": {},
          "execution_count": 80
        }
      ]
    },
    {
      "cell_type": "code",
      "source": [
        "l2=[]\n",
        "type(l2)"
      ],
      "metadata": {
        "colab": {
          "base_uri": "https://localhost:8080/"
        },
        "id": "wb3KQeiNzc2y",
        "outputId": "a77c30b7-6e74-4d0c-a989-9d388abe9038"
      },
      "execution_count": 82,
      "outputs": [
        {
          "output_type": "execute_result",
          "data": {
            "text/plain": [
              "list"
            ]
          },
          "metadata": {},
          "execution_count": 82
        }
      ]
    },
    {
      "cell_type": "code",
      "source": [
        "l2.append('welcome')"
      ],
      "metadata": {
        "id": "EdN0TDyq0amx"
      },
      "execution_count": 92,
      "outputs": []
    },
    {
      "cell_type": "code",
      "source": [
        "l2.insert(1,'meleq')"
      ],
      "metadata": {
        "id": "j9dQYQKX0ol3"
      },
      "execution_count": 120,
      "outputs": []
    },
    {
      "cell_type": "code",
      "source": [
        "print(l2)"
      ],
      "metadata": {
        "colab": {
          "base_uri": "https://localhost:8080/"
        },
        "id": "jjBVLSpqz5Dx",
        "outputId": "12ad0ee5-45b7-4953-af25-11e88e2ee5ec"
      },
      "execution_count": 121,
      "outputs": [
        {
          "output_type": "stream",
          "name": "stdout",
          "text": [
            "['hi', 'meleq', 'meleq', 'hi']\n"
          ]
        }
      ]
    },
    {
      "cell_type": "code",
      "source": [
        "del l2 [1]"
      ],
      "metadata": {
        "id": "CVC7xDJm0zk2"
      },
      "execution_count": 114,
      "outputs": []
    },
    {
      "cell_type": "code",
      "source": [
        "l2.reverse()"
      ],
      "metadata": {
        "id": "NvMP2jvy0_mG"
      },
      "execution_count": 122,
      "outputs": []
    },
    {
      "cell_type": "code",
      "source": [
        "l4=list(range(1,5))\n",
        "print(l4)"
      ],
      "metadata": {
        "colab": {
          "base_uri": "https://localhost:8080/"
        },
        "id": "8FVKYhZW1rwg",
        "outputId": "4f833599-c6cd-439d-d64f-7ad4d9f606b7"
      },
      "execution_count": 123,
      "outputs": [
        {
          "output_type": "stream",
          "name": "stdout",
          "text": [
            "[1, 2, 3, 4]\n"
          ]
        }
      ]
    },
    {
      "cell_type": "code",
      "source": [
        "len(l4)"
      ],
      "metadata": {
        "colab": {
          "base_uri": "https://localhost:8080/"
        },
        "id": "nMdXHtEn2Bb2",
        "outputId": "dc46ed82-b385-4ed6-88d4-748df95da9e4"
      },
      "execution_count": 124,
      "outputs": [
        {
          "output_type": "execute_result",
          "data": {
            "text/plain": [
              "4"
            ]
          },
          "metadata": {},
          "execution_count": 124
        }
      ]
    },
    {
      "cell_type": "markdown",
      "metadata": {
        "id": "x1_ZNu0bS_ZG"
      },
      "source": [
        "Tuples - A tuple is an (immutable) ordered list of values"
      ]
    },
    {
      "cell_type": "code",
      "metadata": {
        "id": "LDDlGTGaTJ7s"
      },
      "source": [
        "#1 Create a tuple using 2 methods\n",
        "#2 confirm what you have created is a tuple\n",
        "#3 combine both tuples created\n",
        "#4 nest both tuples created\n"
      ],
      "execution_count": null,
      "outputs": []
    },
    {
      "cell_type": "code",
      "source": [
        "tu1=(1,2,3)\n",
        "type(tu1)"
      ],
      "metadata": {
        "colab": {
          "base_uri": "https://localhost:8080/"
        },
        "id": "ej1p-REl2v9j",
        "outputId": "023bf515-ec68-4d9a-be5a-45c30b8eb59b"
      },
      "execution_count": 125,
      "outputs": [
        {
          "output_type": "execute_result",
          "data": {
            "text/plain": [
              "tuple"
            ]
          },
          "metadata": {},
          "execution_count": 125
        }
      ]
    },
    {
      "cell_type": "code",
      "source": [
        "tu2=1,2,3\n",
        "type(tu2)"
      ],
      "metadata": {
        "colab": {
          "base_uri": "https://localhost:8080/"
        },
        "id": "I0jWij2E28v2",
        "outputId": "57abd159-1197-423d-e226-2539972231da"
      },
      "execution_count": 126,
      "outputs": [
        {
          "output_type": "execute_result",
          "data": {
            "text/plain": [
              "tuple"
            ]
          },
          "metadata": {},
          "execution_count": 126
        }
      ]
    },
    {
      "cell_type": "code",
      "source": [
        "tu1+tu2"
      ],
      "metadata": {
        "colab": {
          "base_uri": "https://localhost:8080/"
        },
        "id": "z9AxZTK03Alx",
        "outputId": "3b0ad7ed-28b2-46cf-b9e4-d9be5cf5a1fb"
      },
      "execution_count": 127,
      "outputs": [
        {
          "output_type": "execute_result",
          "data": {
            "text/plain": [
              "(1, 2, 3, 1, 2, 3)"
            ]
          },
          "metadata": {},
          "execution_count": 127
        }
      ]
    },
    {
      "cell_type": "code",
      "source": [
        "tu1,tu2"
      ],
      "metadata": {
        "colab": {
          "base_uri": "https://localhost:8080/"
        },
        "id": "LoHVkzlD3IZF",
        "outputId": "1ff1b579-cc85-46dd-bf4c-1682ee9a8451"
      },
      "execution_count": 128,
      "outputs": [
        {
          "output_type": "execute_result",
          "data": {
            "text/plain": [
              "((1, 2, 3), (1, 2, 3))"
            ]
          },
          "metadata": {},
          "execution_count": 128
        }
      ]
    },
    {
      "cell_type": "markdown",
      "metadata": {
        "id": "P9IOR_D9XaI3"
      },
      "source": [
        "Dictionaries - A dictionary stores (key, value) pairs"
      ]
    },
    {
      "cell_type": "code",
      "metadata": {
        "id": "kkVDHtHeY9FS"
      },
      "source": [
        "#1 Create a dict with 2 keys using 2 methods\n",
        "#2 add a thrid key to the dict above\n",
        "#3 get the keys from the dicts\n",
        "#4 get the values from the dicts\n",
        "#5 update a value in dict 1\n",
        "#6 get a value from a key\n",
        "#7 display all the elements in a dict\n"
      ],
      "execution_count": null,
      "outputs": []
    },
    {
      "cell_type": "code",
      "source": [
        "d1={'name':'meleq','gender':'male'}\n",
        "type(d1)"
      ],
      "metadata": {
        "colab": {
          "base_uri": "https://localhost:8080/"
        },
        "id": "84Kn4Xg435EX",
        "outputId": "30f9753a-7309-4475-d9cd-4ecc2783d753"
      },
      "execution_count": 142,
      "outputs": [
        {
          "output_type": "execute_result",
          "data": {
            "text/plain": [
              "dict"
            ]
          },
          "metadata": {},
          "execution_count": 142
        }
      ]
    },
    {
      "cell_type": "code",
      "source": [
        "print(d1)"
      ],
      "metadata": {
        "colab": {
          "base_uri": "https://localhost:8080/"
        },
        "id": "VKJ98Ipc4YWz",
        "outputId": "192a49d9-2efc-4607-84f1-c8921b66e237"
      },
      "execution_count": 141,
      "outputs": [
        {
          "output_type": "stream",
          "name": "stdout",
          "text": [
            "{'name': 'John', 'gender': 'male', 'ocupation': 'student', 'pet': ['cat', 'dog']}\n"
          ]
        }
      ]
    },
    {
      "cell_type": "code",
      "source": [
        "d1['ocupation']='x'"
      ],
      "metadata": {
        "id": "nLc7x9Zo4hEK"
      },
      "execution_count": 143,
      "outputs": []
    },
    {
      "cell_type": "code",
      "source": [
        "d1.keys()"
      ],
      "metadata": {
        "colab": {
          "base_uri": "https://localhost:8080/"
        },
        "id": "w3tpfA-f4pAq",
        "outputId": "9b19b2f1-c1c8-472f-ab7d-b8800ffe5b2d"
      },
      "execution_count": 134,
      "outputs": [
        {
          "output_type": "execute_result",
          "data": {
            "text/plain": [
              "dict_keys(['name', 'gender', 'ocupation'])"
            ]
          },
          "metadata": {},
          "execution_count": 134
        }
      ]
    },
    {
      "cell_type": "code",
      "source": [
        "d1.values()"
      ],
      "metadata": {
        "colab": {
          "base_uri": "https://localhost:8080/"
        },
        "id": "tQutIPtD4uS-",
        "outputId": "dbca1fbc-dee2-47df-bf3d-5607a20a416e"
      },
      "execution_count": 144,
      "outputs": [
        {
          "output_type": "execute_result",
          "data": {
            "text/plain": [
              "dict_values(['meleq', 'male', 'x'])"
            ]
          },
          "metadata": {},
          "execution_count": 144
        }
      ]
    },
    {
      "cell_type": "code",
      "source": [
        "d1['name']='John'"
      ],
      "metadata": {
        "id": "63BszXXd43WX"
      },
      "execution_count": 137,
      "outputs": []
    },
    {
      "cell_type": "code",
      "source": [
        "d1['gender']"
      ],
      "metadata": {
        "colab": {
          "base_uri": "https://localhost:8080/",
          "height": 36
        },
        "id": "pVSr9Xpf49yc",
        "outputId": "81dbd093-b70c-4fdf-9752-336efecbce2c"
      },
      "execution_count": 138,
      "outputs": [
        {
          "output_type": "execute_result",
          "data": {
            "text/plain": [
              "'male'"
            ],
            "application/vnd.google.colaboratory.intrinsic+json": {
              "type": "string"
            }
          },
          "metadata": {},
          "execution_count": 138
        }
      ]
    },
    {
      "cell_type": "code",
      "source": [
        "d1['pet']=['cat','dog']"
      ],
      "metadata": {
        "id": "P18VGO2A5ICY"
      },
      "execution_count": 140,
      "outputs": []
    },
    {
      "cell_type": "markdown",
      "metadata": {
        "id": "ghk52TXEcpFo"
      },
      "source": [
        "Sets"
      ]
    },
    {
      "cell_type": "code",
      "metadata": {
        "id": "--ug3bchcqkg"
      },
      "source": [
        "#1 create a set, using your name\n",
        "#2 verify that you created a set\n",
        "#3 create a list of names with fruits (with duplicates)\n",
        "#4 convert the fruits list to a set\n",
        "#5 confirm if there is duplicates in the fruits set\n",
        "#6 create another set, using another name\n",
        "#7 Which letters are in your name but not in the other name\n",
        "#8 Which letters are in both your name and the other name\n",
        "#9 which letters are in your name or the other name but not in both"
      ],
      "execution_count": null,
      "outputs": []
    },
    {
      "cell_type": "code",
      "source": [
        "s1=set('milad')\n",
        "type(s1)"
      ],
      "metadata": {
        "colab": {
          "base_uri": "https://localhost:8080/"
        },
        "id": "76AoxsXX6IWt",
        "outputId": "bfd786d9-fce8-4421-c181-d0edf47b8f09"
      },
      "execution_count": 152,
      "outputs": [
        {
          "output_type": "execute_result",
          "data": {
            "text/plain": [
              "set"
            ]
          },
          "metadata": {},
          "execution_count": 152
        }
      ]
    },
    {
      "cell_type": "code",
      "source": [
        "l5=['apple','grapes','apple','orange']\n",
        "print(l5)"
      ],
      "metadata": {
        "colab": {
          "base_uri": "https://localhost:8080/"
        },
        "id": "WdRt0oZI6VXt",
        "outputId": "221455d8-43cf-4843-baa3-fff551a14b70"
      },
      "execution_count": 146,
      "outputs": [
        {
          "output_type": "stream",
          "name": "stdout",
          "text": [
            "['apple', 'grapes', 'apple', 'orange']\n"
          ]
        }
      ]
    },
    {
      "cell_type": "code",
      "source": [
        "set2=set(l5)\n",
        "print(set2)"
      ],
      "metadata": {
        "colab": {
          "base_uri": "https://localhost:8080/"
        },
        "id": "WAA5HnWw6joZ",
        "outputId": "31efcf34-5688-423f-a120-9c4b6f85e276"
      },
      "execution_count": 147,
      "outputs": [
        {
          "output_type": "stream",
          "name": "stdout",
          "text": [
            "{'apple', 'orange', 'grapes'}\n"
          ]
        }
      ]
    },
    {
      "cell_type": "code",
      "source": [
        "s3=set('david')\n",
        "print(s3)"
      ],
      "metadata": {
        "colab": {
          "base_uri": "https://localhost:8080/"
        },
        "id": "PHcE-aBH6u2v",
        "outputId": "018585e5-b398-4d4b-9f8b-90071c3fbc4e"
      },
      "execution_count": 149,
      "outputs": [
        {
          "output_type": "stream",
          "name": "stdout",
          "text": [
            "{'i', 'd', 'v', 'a'}\n"
          ]
        }
      ]
    },
    {
      "cell_type": "code",
      "source": [
        "s1-s3"
      ],
      "metadata": {
        "colab": {
          "base_uri": "https://localhost:8080/"
        },
        "id": "qwAU-H4v67jq",
        "outputId": "c145b169-c703-4b9d-abdb-fbfb04149651"
      },
      "execution_count": 153,
      "outputs": [
        {
          "output_type": "execute_result",
          "data": {
            "text/plain": [
              "{'l', 'm'}"
            ]
          },
          "metadata": {},
          "execution_count": 153
        }
      ]
    },
    {
      "cell_type": "code",
      "source": [
        "s1&s3"
      ],
      "metadata": {
        "colab": {
          "base_uri": "https://localhost:8080/"
        },
        "id": "l5l8eoPR7BEj",
        "outputId": "0ac85f34-3d8d-4be1-d3e0-ab68885301d2"
      },
      "execution_count": 154,
      "outputs": [
        {
          "output_type": "execute_result",
          "data": {
            "text/plain": [
              "{'a', 'd', 'i'}"
            ]
          },
          "metadata": {},
          "execution_count": 154
        }
      ]
    },
    {
      "cell_type": "code",
      "source": [
        "s1^s3"
      ],
      "metadata": {
        "colab": {
          "base_uri": "https://localhost:8080/"
        },
        "id": "iKPcoOhz7GIw",
        "outputId": "ee9ef8e5-ad67-47cb-9020-0d14925117e1"
      },
      "execution_count": 155,
      "outputs": [
        {
          "output_type": "execute_result",
          "data": {
            "text/plain": [
              "{'l', 'm', 'v'}"
            ]
          },
          "metadata": {},
          "execution_count": 155
        }
      ]
    }
  ]
}